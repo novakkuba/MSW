{
 "cells": [
  {
   "cell_type": "code",
   "execution_count": 13,
   "metadata": {},
   "outputs": [
    {
     "name": "stdout",
     "output_type": "stream",
     "text": [
      "[75 66  9 62 10 61 36 91 60 51]\n",
      "Průměr: 52.1\n",
      "Směrodatná odchylka: 25.220824728783157\n",
      "Max: 91\n",
      "Min: 9\n",
      "\n",
      "[90, 37, 90, 21, 10, 74, 45, 13, 42, 64]\n",
      "Průměr: 48.6\n",
      "Směrodatná odchylka: 28.320310732758564\n",
      "Max: 90\n",
      "Min: 10\n",
      "\n"
     ]
    }
   ],
   "source": [
    "#tento kod vypise prumer, smerodatnou odchylku, max and min, jednou pomoci knihovny numpy podruhe pomoci standartniho pythonu \n",
    "import numpy as np \n",
    "from time import *\n",
    "import random\n",
    "import math\n",
    "\n",
    "\n",
    "a = np.random.randint(1, 101, size=10)\n",
    "print(a)\n",
    "\n",
    "mean = np.mean(a)\n",
    "std_dev = np.std(a)\n",
    "max_value = np.max(a)\n",
    "min_value = np.min(a)\n",
    "\n",
    "print(f\"Průměr: {mean}\")\n",
    "print(f\"Směrodatná odchylka: {std_dev}\")\n",
    "print(f\"Max: {max_value}\")\n",
    "print(f\"Min: {min_value}\\n\")\n",
    "\n",
    "\n",
    "a1 = [random.randint(1, 100) for _ in range(10)]\n",
    "print(a1)\n",
    "\n",
    "mean = sum(a1) / len(a1)\n",
    "\n",
    "squared_diffs = [(x - mean) ** 2 for x in a1]\n",
    "variance = sum(squared_diffs) / len(a1)\n",
    "std_dev = math.sqrt(variance)\n",
    "\n",
    "max_value = max(a1)\n",
    "min_value = min(a1)\n",
    "\n",
    "print(f\"Průměr: {mean}\")\n",
    "print(f\"Směrodatná odchylka: {std_dev}\")\n",
    "print(f\"Max: {max_value}\")\n",
    "print(f\"Min: {min_value}\\n\")"
   ]
  },
  {
   "cell_type": "code",
   "execution_count": 14,
   "metadata": {},
   "outputs": [
    {
     "name": "stdout",
     "output_type": "stream",
     "text": [
      "Maticove nasobeni vysledek: \n",
      " [[ 30  24  18]\n",
      " [ 84  69  54]\n",
      " [138 114  90]]\n",
      "uplynuly cas: 0.0\n",
      "Maticove nasobeni vyskedek: \n",
      " [[30, 24, 18], [84, 69, 54], [138, 114, 90]]\n",
      "uplynuly cas: 0.0\n"
     ]
    }
   ],
   "source": [
    "#tento kod vypise vysledek maticoveho nasobeni a  čas potřebný pro každé řešení, jednou pomoci numpy podruhe podle standartniho pythonu\n",
    "start_time = time()\n",
    "\n",
    "a1 = np.array([[1,2,3], [4,5,6], [7,8,9]])\n",
    "a2 = np.array([[9,8,7], [6,5,4], [3,2,1]])\n",
    "a3 = np.dot(a1, a2)\n",
    "print(f\"Maticove nasobeni vysledek: \\n {a3}\")\n",
    "\n",
    "stop_time = time()\n",
    "print(f\"uplynuly cas: {stop_time-start_time}\")\n",
    "\n",
    "start_time1 = time()\n",
    "\n",
    "a4 = [[1, 2, 3], [4, 5, 6], [7, 8, 9]]\n",
    "a5 = [[9, 8, 7], [6, 5, 4], [3, 2, 1]]\n",
    "a6 = list(zip(*a5))\n",
    "a7 = []\n",
    "\n",
    "for row in a4:\n",
    "    temp_row = []  \n",
    "    for col in a6:   \n",
    "        temp_row.append(sum(map(lambda x, y: x * y, row, col)))\n",
    "    a7.append(temp_row)  \n",
    "   \n",
    "print(f\"Maticove nasobeni vyskedek: \\n {a7}\")\n",
    "        \n",
    "\n",
    "\n",
    "stop_time1 = time()\n",
    "print(f\"uplynuly cas: {stop_time1-start_time1}\")\n"
   ]
  },
  {
   "cell_type": "code",
   "execution_count": 15,
   "metadata": {},
   "outputs": [
    {
     "name": "stdout",
     "output_type": "stream",
     "text": [
      "skalarni soucin: 332833500\n",
      "uplynuly cas: 0.0012938976287841797\n",
      "skalarni soucin: 332833500\n",
      "uplynuly cas: 0.0\n"
     ]
    }
   ],
   "source": [
    "#tento kod vypise vysledek skalarniho soucin a  čas potřebný pro každé řešení, jednou pomoci numpy, podruhe pomoci standartniho pythonu\n",
    "start_time = time()\n",
    "\n",
    "a1 = np.arange(1000)\n",
    "a2 = np.arange(1000)\n",
    "a3 = np.dot(a1, a2)\n",
    "print(f\"skalarni soucin: {a3}\")\n",
    "\n",
    "\n",
    "stop_time = time()\n",
    "print(f\"uplynuly cas: {stop_time-start_time}\")\n",
    "\n",
    "start_time1 = time()\n",
    "\n",
    "a4 = list(range(1000))\n",
    "a5 = list(range(1000))\n",
    "a6 = list(zip(a4,a5))\n",
    "a7 = 0\n",
    "for value, value1 in a6:\n",
    "    a7 += value * value1\n",
    "\n",
    "\n",
    "print(f\"skalarni soucin: {a7}\")\n",
    "stop_time1 = time()\n",
    "print(f\"uplynuly cas: {stop_time1-start_time1}\")"
   ]
  },
  {
   "cell_type": "code",
   "execution_count": 16,
   "metadata": {},
   "outputs": [
    {
     "name": "stdout",
     "output_type": "stream",
     "text": [
      "solution with numpy\n",
      "[1. 2.]\n",
      "uplynuly cas: 0.007015705108642578\n",
      "standard python solution:\n",
      "[1.0, 2.0]\n",
      "uplynuly cas: 0.0\n"
     ]
    }
   ],
   "source": [
    "#Tento kód řeší soustavu lineárních rovnic a měří čas potřebný pro každé řešení jednou pomoci numpy podruhe pomoci standartniho pythonu\n",
    "start_time = time()\n",
    "a = np.array([[1,5], [3,2]])\n",
    "b = np.array([11,7])\n",
    "\n",
    "x = np.linalg.solve(a, b)\n",
    "print(\"solution with numpy\")\n",
    "print(x)\n",
    "stop_time = time()\n",
    "print(f\"uplynuly cas: {stop_time-start_time}\")\n",
    "\n",
    "start_time1 = time()\n",
    "\n",
    "def gaussian_elimination(a, b):\n",
    "    n = len(b)\n",
    "    \n",
    "    \n",
    "    for i in range(n):\n",
    "        if a[i][i] == 0:\n",
    "            raise ValueError(\"Matrix is singular and cannot be solved.\")\n",
    "        \n",
    "        for j in range(i + 1, n):\n",
    "            ratio = a[j][i] / a[i][i]\n",
    "            for k in range(i, n):\n",
    "                a[j][k] -= ratio * a[i][k]\n",
    "            b[j] -= ratio * b[i]\n",
    "    \n",
    "    x = [0] * n\n",
    "    for i in range(n - 1, -1, -1):\n",
    "        x[i] = b[i]\n",
    "        for j in range(i + 1, n):\n",
    "            x[i] -= a[i][j] * x[j]\n",
    "        x[i] /= a[i][i]\n",
    "    \n",
    "    return x\n",
    "\n",
    "a = [[1, 5], [3, 2]]\n",
    "b = [11, 7]\n",
    "\n",
    "\n",
    "solution = gaussian_elimination(a, b)\n",
    "\n",
    "print(\"standard python solution:\")\n",
    "print(solution)\n",
    "stop_time1 = time()\n",
    "print(f\"uplynuly cas: {stop_time1-start_time1}\")"
   ]
  },
  {
   "cell_type": "code",
   "execution_count": 17,
   "metadata": {},
   "outputs": [
    {
     "name": "stdout",
     "output_type": "stream",
     "text": [
      "vysledek faktorialu n: 265252859812191058636308480000000\n",
      "uplynuly cas: 0.0016589164733886719\n",
      "vysledek faktorialu n: 265252859812191058636308480000000\n",
      "uplynuly cas: 0.0\n"
     ]
    }
   ],
   "source": [
    "#tento kod vypise vysledek faktorialu, jednou pomoci numpy podruhe pomoci standartniho pythonu\n",
    "from scipy.special import factorial\n",
    "\n",
    "start_time = time()\n",
    "\n",
    "n = 30\n",
    "a1 = factorial(n, exact=True)\n",
    "print(f\"vysledek faktorialu n: {a1}\")\n",
    "\n",
    "stop_time = time()\n",
    "print(f\"uplynuly cas: {stop_time-start_time}\")\n",
    "\n",
    "start_time1 = time()\n",
    "\n",
    "a2 = 1   \n",
    "for i in range(2, n + 1):\n",
    "    a2 *= i  \n",
    "print(f\"vysledek faktorialu n: {a2}\")\n",
    "stop_time1 = time()\n",
    "print(f\"uplynuly cas: {stop_time1-start_time1}\")\n",
    "\n",
    "\n"
   ]
  }
 ],
 "metadata": {
  "kernelspec": {
   "display_name": "Python 3",
   "language": "python",
   "name": "python3"
  },
  "language_info": {
   "codemirror_mode": {
    "name": "ipython",
    "version": 3
   },
   "file_extension": ".py",
   "mimetype": "text/x-python",
   "name": "python",
   "nbconvert_exporter": "python",
   "pygments_lexer": "ipython3",
   "version": "3.12.4"
  }
 },
 "nbformat": 4,
 "nbformat_minor": 2
}

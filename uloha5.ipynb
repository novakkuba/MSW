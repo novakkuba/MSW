{
 "cells": [
  {
   "cell_type": "code",
   "execution_count": 10,
   "metadata": {},
   "outputs": [
    {
     "name": "stdout",
     "output_type": "stream",
     "text": [
      "\n",
      "--- exp_function ---\n",
      "\n",
      "--- Bisection metoda ---\n",
      "Řešení bisection metodou: x = 1.6094369888305664\n",
      "Bisection metoda cas:  0.00018440000712871552\n",
      "\n",
      "--- Newtonova metoda ---\n",
      "Řešení Newtonovou metodou: x = 1.6094379124341012\n",
      "Newtonova methoda cas:  0.0002750999992713332\n",
      "\n",
      "--- sin_function ---\n",
      "\n",
      "--- Bisection metoda ---\n",
      "Řešení bisection metodou: x = 0.0\n",
      "Bisection metoda cas:  2.300000051036477e-05\n",
      "\n",
      "--- Newtonova metoda ---\n",
      "Řešení Newtonovou metodou: x = 3.141592653590613\n",
      "Newtonova methoda cas:  0.0001585999852977693\n",
      "\n",
      "--- polynomial_function ---\n",
      "\n",
      "--- Bisection metoda ---\n",
      "Řešení bisection metodou: x = 2.5173044204711914\n",
      "Bisection metoda cas:  7.449998520314693e-05\n",
      "\n",
      "--- Newtonova metoda ---\n",
      "Řešení Newtonovou metodou: x = 2.5173040450083053\n",
      "Newtonova methoda cas:  0.00020020001102238894\n"
     ]
    }
   ],
   "source": [
    "import numpy as np\n",
    "import time\n",
    "from scipy.optimize import bisect, newton\n",
    "\n",
    "def polynomial_function(x):\n",
    "    return x**3 - 6*x**2 + 4*x + 12\n",
    "\n",
    "def exp_function(x):\n",
    "    return np.exp(x) - 5\n",
    "\n",
    "def sin_function(x):\n",
    "    return np.sin(x) \n",
    "\n",
    "functions = [exp_function, sin_function, polynomial_function]\n",
    "function_names = [\"exp_function\", \"sin_function\", \"polynomial_function\"]\n",
    "\n",
    "a0 = 0  \n",
    "b0 = 4  \n",
    "eps = 1E-6  \n",
    "delta = 1E-6  \n",
    "\n",
    "\n",
    "for func, name in zip(functions, function_names):\n",
    "    \n",
    "    print(f\"\\n--- {name} ---\")\n",
    "    \n",
    "    print(\"\\n--- Bisection metoda ---\")\n",
    "    \n",
    "    start_time = time.perf_counter()\n",
    "    root_bisection = bisect(func, a0, b0, xtol=eps)\n",
    "    end_time = time.perf_counter()\n",
    "    print(\"Řešení bisection metodou: x =\", root_bisection)\n",
    "    print(\"Bisection metoda cas: \", end_time - start_time)\n",
    "\n",
    "    print(\"\\n--- Newtonova metoda ---\")\n",
    "    \n",
    "    start_time1 = time.perf_counter()\n",
    "    root_newton = newton(func, x0=(a0 + b0) / 2, tol=delta)\n",
    "    end_time1 = time.perf_counter()\n",
    "    print(\"Řešení Newtonovou metodou: x =\", root_newton)\n",
    "    print(\"Newtonova methoda cas: \", end_time1 - start_time1 )\n"
   ]
  }
 ],
 "metadata": {
  "kernelspec": {
   "display_name": "Python 3",
   "language": "python",
   "name": "python3"
  },
  "language_info": {
   "codemirror_mode": {
    "name": "ipython",
    "version": 3
   },
   "file_extension": ".py",
   "mimetype": "text/x-python",
   "name": "python",
   "nbconvert_exporter": "python",
   "pygments_lexer": "ipython3",
   "version": "3.12.4"
  }
 },
 "nbformat": 4,
 "nbformat_minor": 2
}

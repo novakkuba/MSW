{
 "cells": [
  {
   "cell_type": "code",
   "execution_count": 1,
   "metadata": {},
   "outputs": [
    {
     "name": "stdout",
     "output_type": "stream",
     "text": [
      "\n",
      "poly_function\n",
      "Analytic : 5.25000000\n",
      "Trapezoidal solution : 5.25114784\n",
      "Simpson's solution : 5.25000021\n",
      "\n",
      "harmonic_function\n",
      "Analytic : 1.98999250\n",
      "Trapezoidal solution : 1.98984021\n",
      "Simpson's solution : 1.98999254\n",
      "\n",
      "exp_function\n",
      "Analytic : 19.08553692\n",
      "Trapezoidal solution : 19.08699738\n",
      "Simpson's solution : 19.08553770\n"
     ]
    }
   ],
   "source": [
    "import numpy as np\n",
    "import matplotlib.pyplot as plt\n",
    "from scipy.integrate import quad, simpson\n",
    "\n",
    "\n",
    "def poly_function(x):\n",
    "    return x**3 - 2*x**2 + 1\n",
    "\n",
    "def harmonic_function(x):\n",
    "    return np.sin(x)\n",
    "\n",
    "def exp_function(x):\n",
    "    return np.exp(x)\n",
    "\n",
    "functions = [poly_function, harmonic_function, exp_function]\n",
    "function_names = [\"poly_function\",\"harmonic_function\", \"exp_function\"]\n",
    "\n",
    "a = 0\n",
    "b = 3  \n",
    "\n",
    "num_points = 100\n",
    "x_values = np.linspace(a, b, num_points)\n",
    "\n",
    "\n",
    "for func, name in zip(functions, function_names):\n",
    "   \n",
    "    y_values = func(x_values)\n",
    "\n",
    "    analytic_solution, _ = quad(func, a, b)\n",
    "\n",
    "    trapezoid_solution = np.trapezoid(y_values, x_values)  \n",
    "\n",
    "    simpson_solution = simpson(y_values, x=x_values)       \n",
    "\n",
    "    print(f\"\\n{name}\")\n",
    "    \n",
    "    print(f\"Analytic : {analytic_solution:.8f}\")\n",
    "    print(f\"Trapezoidal solution : {trapezoid_solution:.8f}\")\n",
    "    print(f\"Simpson's solution : {simpson_solution:.8f}\")\n",
    "\n"
   ]
  }
 ],
 "metadata": {
  "kernelspec": {
   "display_name": "Python 3",
   "language": "python",
   "name": "python3"
  },
  "language_info": {
   "codemirror_mode": {
    "name": "ipython",
    "version": 3
   },
   "file_extension": ".py",
   "mimetype": "text/x-python",
   "name": "python",
   "nbconvert_exporter": "python",
   "pygments_lexer": "ipython3",
   "version": "3.12.4"
  }
 },
 "nbformat": 4,
 "nbformat_minor": 2
}
